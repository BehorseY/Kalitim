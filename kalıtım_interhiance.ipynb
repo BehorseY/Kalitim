{
  "cells": [
    {
      "cell_type": "code",
      "source": [
        "class Parent:\n",
        "  def parent_method(self):\n",
        "    print(\"This is the parent method\")\n",
        "\n",
        "class Child(Parent):\n",
        "  def child_method(self):\n",
        "    print(\"This is the child method\")\n"
      ],
      "metadata": {
        "id": "ZZlCDaULVXG_"
      },
      "execution_count": null,
      "outputs": []
    },
    {
      "cell_type": "code",
      "source": [
        "class animal:\n",
        "  def __init__(self,name):\n",
        "    self.name=name\n",
        "\n",
        "class dog(animal):\n",
        "  def __init__(self,name,breed):\n",
        "    super().__init__(name)\n",
        "    self.breed=breed\n",
        "  def showme(self):\n",
        "    print(f\"dog name is {self.name} and dog breed is {self.breed}\")\n",
        "\n",
        "\n",
        "kopek1=dog(\"badi\",\"hav\")\n"
      ],
      "metadata": {
        "id": "cKJ-ZwW4XEUf"
      },
      "execution_count": null,
      "outputs": []
    },
    {
      "cell_type": "code",
      "source": [
        "class animal:\n",
        "  def speak(self):\n",
        "    print(\"animal is making a sound\")\n",
        "\n",
        "class dog(animal):\n",
        "  def speak(self):\n",
        "    print(\"dog is barking.\")\n",
        "\n",
        "kopek=dog()\n",
        "kopek.speak()\n",
        "\n",
        "hayvan=animal()\n",
        "hayvan.speak()"
      ],
      "metadata": {
        "colab": {
          "base_uri": "https://localhost:8080/"
        },
        "id": "mbMJZdi6aKFN",
        "outputId": "940575b6-0664-43d9-9ead-2b126f4fe1b5"
      },
      "execution_count": null,
      "outputs": [
        {
          "output_type": "stream",
          "name": "stdout",
          "text": [
            "dog is barking.\n",
            "animal is making a sound\n"
          ]
        }
      ]
    },
    {
      "cell_type": "code",
      "source": [
        "class flyer:\n",
        "  def fly(self):\n",
        "    print(\"flying\")\n",
        "\n",
        "class swimmer:\n",
        "  def swim(self):\n",
        "    print(\"swimming\")\n",
        "\n",
        "class duck(flyer,swimmer):\n",
        "  pass"
      ],
      "metadata": {
        "id": "UypIan5WbBGM"
      },
      "execution_count": null,
      "outputs": []
    },
    {
      "cell_type": "code",
      "source": [
        "class a:\n",
        "  def method(self):\n",
        "    print(\"a method\")\n",
        "class b(a):\n",
        "  def method(self):\n",
        "    print(\"b method\")\n",
        "class c(a):\n",
        "  def method(self):\n",
        "    print(\"c method\")\n",
        "\n",
        "class D(c,b):\n",
        "  pass\n",
        "\n",
        "d =D()\n",
        "d.method()\n",
        "print(D.mro())"
      ],
      "metadata": {
        "colab": {
          "base_uri": "https://localhost:8080/"
        },
        "id": "SSAXpr2HcMK0",
        "outputId": "7d7a7ae5-da77-4fcb-ad8a-44b4d117e6d1"
      },
      "execution_count": null,
      "outputs": [
        {
          "output_type": "stream",
          "name": "stdout",
          "text": [
            "c method\n",
            "[<class '__main__.D'>, <class '__main__.c'>, <class '__main__.b'>, <class '__main__.a'>, <class 'object'>]\n"
          ]
        }
      ]
    },
    {
      "cell_type": "code",
      "source": [
        "class arac:\n",
        "  def __init__(self,marka,model):\n",
        "    self.marka=marka\n",
        "    self.model=model\n",
        "  def bilgi(self):\n",
        "    print(f\"marka: {self.marka} model: {self.model}\")\n",
        "\n",
        "class araba(arac):\n",
        "  def __init__(self,marka,model,kapısayısı):\n",
        "    super().__init__(marka,model)\n",
        "    self.kapısayısı=kapısayısı\n",
        "\n",
        "  def arababilgisi(self):\n",
        "    self.bilgi()\n",
        "    print(f\"kapısayısı: {self.kapısayısı}\")\n",
        "\n",
        "benimarabam=araba(\"hyundai\",\"tucson\",6)\n",
        "benimarabam.arababilgisi()"
      ],
      "metadata": {
        "colab": {
          "base_uri": "https://localhost:8080/"
        },
        "id": "w2ENyBxee6bb",
        "outputId": "55186b26-4f26-40a9-97ac-28c14bd209bd"
      },
      "execution_count": null,
      "outputs": [
        {
          "output_type": "stream",
          "name": "stdout",
          "text": [
            "marka: hyundai model: tucson\n",
            "kapısayısı: 6\n"
          ]
        }
      ]
    },
    {
      "cell_type": "code",
      "source": [
        "class person:\n",
        "    def __init__(self,ad,yas):\n",
        "      self.ad=ad\n",
        "      self.yas=yas\n",
        "    def bilgi(self):\n",
        "      print(f\"ad: {self.ad} yas: {self.yas}\")\n",
        "\n",
        "class ogrenci(person):\n",
        "  def __init__(self,ad,yas,numero):\n",
        "    super().__init__(ad,yas)\n",
        "    self.numero=numero\n",
        "  def ogrencibilgi(self):\n",
        "    print(f\"ad: {self.ad} , yas: {self.yas} , numeros: {self.numero}\")\n",
        "\n",
        "ogrenci1=ogrenci(\"berat\",16,351)\n",
        "ogrenci1.ogrencibilgi()"
      ],
      "metadata": {
        "colab": {
          "base_uri": "https://localhost:8080/"
        },
        "id": "K049LcD1iWea",
        "outputId": "c8774a0d-b84d-41aa-8fbe-44d86ebf8036"
      },
      "execution_count": null,
      "outputs": [
        {
          "output_type": "stream",
          "name": "stdout",
          "text": [
            "ad: berat , yas: 16 , numeros: 351\n"
          ]
        }
      ]
    },
    {
      "cell_type": "code",
      "source": [
        "class animal:\n",
        "  def __init__(self,name,breed):\n",
        "    self.name=name\n",
        "    self.breed=breed\n",
        "\n",
        "class dog(animal):\n",
        "  def __init__(self,name,breed):\n",
        "    super().__init__(name,breed)\n",
        "  def kopekbilgi(self):\n",
        "    print(f\"kopegin adi:{self.name}, köpek ne ses çıkarır?: {self.breed}\")\n",
        "\n",
        "class cat(animal):\n",
        "  def __init__(self,name,breed):\n",
        "    super().__init__(name,breed)\n",
        "  def catbilgi(self):\n",
        "    print(f\"kedi adı:{self.name}, kedi ne ses çıkarır?:{self.breed}\")\n",
        "\n",
        "\n",
        "hayvan1=dog(\"karabaş\",\"bark\")\n",
        "hayvan2=cat(\"garfield\",\"meow\")\n",
        "hayvan1.kopekbilgi()\n",
        "hayvan2.catbilgi()"
      ],
      "metadata": {
        "colab": {
          "base_uri": "https://localhost:8080/"
        },
        "id": "5uxe-vLYo5kA",
        "outputId": "bd6f7843-08b8-46e6-8220-cd62dbf3b8e0"
      },
      "execution_count": null,
      "outputs": [
        {
          "output_type": "stream",
          "name": "stdout",
          "text": [
            "kopegin adi:karabaş, köpek ne ses çıkarır?: bark\n",
            "kedi adı:garfield, kedi ne ses çıkarır?:meow\n"
          ]
        }
      ]
    },
    {
      "cell_type": "code",
      "source": [
        "class arac:\n",
        "  def __init__(self,marka,model):\n",
        "    self.marka=marka\n",
        "    self.model=model\n",
        "  def arabilgi(self):\n",
        "    print(f\"marka: {self.marka} model: {self.model}\")\n",
        "\n",
        "\n",
        "class araba(arac):\n",
        "  def __init__(self,marka,model,renk):\n",
        "    super().__init__(marka,model)\n",
        "    super().arabilgi()\n",
        "    self.renk=renk\n",
        "  def arabilgi(self):\n",
        "    print(f\"marka: {self.marka} model: {self.model} renk: {self.renk}\")\n",
        "\n",
        "arabam=araba(\"mercedes\",\"c200\",\"kahverengi\")\n",
        "\n",
        "arabam.arabilgi()"
      ],
      "metadata": {
        "colab": {
          "base_uri": "https://localhost:8080/"
        },
        "id": "GcIyaYt6xy6V",
        "outputId": "004ef794-728c-49d5-9dcc-9e8b1ca1b5a4"
      },
      "execution_count": null,
      "outputs": [
        {
          "output_type": "stream",
          "name": "stdout",
          "text": [
            "marka: mercedes model: c200\n",
            "marka: mercedes model: c200 renk: kahverengi\n"
          ]
        }
      ]
    },
    {
      "cell_type": "code",
      "source": [
        "class calısan:\n",
        "  def __init__(self,dep,maas):\n",
        "    self.dep=dep\n",
        "    self.maas=maas\n",
        "  def calısanbilgi(self):\n",
        "    print(f\"dep bilgi:{self.dep}, maas:{self.maas}\")\n",
        "\n",
        "class mudur(calısan):\n",
        "  def __init__(self,dep,maas,calısansayısı):\n",
        "    super().__init__(dep,maas)\n",
        "    self.calısansayısı=calısansayısı\n",
        "  def mudurbilgi(self):\n",
        "    print(f\"dep bilgi:{self.dep}, maas:{self.maas}, calısansayısı:{self.calısansayısı}\")\n",
        "\n",
        "class yonetici(mudur):\n",
        "  def __init__(self,dep,maas,calısansayısı,butceyonetimi):\n",
        "    super().__init__(dep,maas,calısansayısı)\n",
        "    self.butceyonetimi=butceyonetimi\n",
        "\n",
        "  def yoneticibilgi(self):\n",
        "    print(f\"depbilgi:{self.dep}, maas:{self.maas},calısansayı:{self.calısansayısı}, kalan butce:{self.butceyonetimi}\")\n",
        "\n",
        "calısan1=calısan(\"dep bilgi\",1000)\n",
        "mudur1m=mudur(\"dep bilgi\",2000,10)\n",
        "yonetici1=yonetici(\"dep bilgi\",3000,10,10000)\n",
        "\n",
        "calısan1.calısanbilgi()\n",
        "mudur1m.mudurbilgi()\n",
        "yonetici1.yoneticibilgi()\n",
        "\n"
      ],
      "metadata": {
        "colab": {
          "base_uri": "https://localhost:8080/"
        },
        "id": "OrApxERjyIQ1",
        "outputId": "7b5e8fd5-a070-4162-bc96-8bac7ea00a6e"
      },
      "execution_count": null,
      "outputs": [
        {
          "output_type": "stream",
          "name": "stdout",
          "text": [
            "dep bilgi:dep bilgi, maas:1000\n",
            "dep bilgi:dep bilgi, maas:2000, calısansayısı:10\n",
            "depbilgi:dep bilgi, maas:3000,calısansayı:10, kalan butce:10000\n"
          ]
        }
      ]
    },
    {
      "cell_type": "code",
      "source": [],
      "metadata": {
        "id": "TiGP2m7v0UMU"
      },
      "execution_count": null,
      "outputs": []
    }
  ],
  "metadata": {
    "colab": {
      "provenance": []
    },
    "kernelspec": {
      "display_name": "Python 3",
      "name": "python3"
    }
  },
  "nbformat": 4,
  "nbformat_minor": 0
}