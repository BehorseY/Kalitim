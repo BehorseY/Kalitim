{
  "cells": [
    {
      "cell_type": "code",
      "source": [
        "class Restoran:\n",
        "    def __init__(self):\n",
        "        self.siparisler = []\n",
        "\n",
        "    def siparis_ekle(self, yemek_adi, miktar, fiyat):\n",
        "        siparis = Siparis(yemek_adi, miktar, fiyat)\n",
        "        self.siparisler.append(siparis)\n",
        "        print(f\"{yemek_adi} siparişi eklendi.\")\n",
        "\n",
        "    def siparis_iptal(self, yemek_adi):\n",
        "        for siparis in self.siparisler:\n",
        "            if siparis.yemek_adi == yemek_adi:\n",
        "                self.siparisler.remove(siparis)\n",
        "                print(f\"{yemek_adi} siparişi iptal edildi.\")\n",
        "                return\n",
        "        print(f\"{yemek_adi} siparişi bulunamadı.\")\n",
        "\n",
        "    def toplam_fiyat_hesapla(self):\n",
        "        toplam_fiyat = 0\n",
        "        for siparis in self.siparisler:\n",
        "            toplam_fiyat += siparis.toplam_fiyat()\n",
        "        return toplam_fiyat\n",
        "\n",
        "    def siparisleri_goster(self):\n",
        "        for siparis in self.siparisler:\n",
        "            print(f\"{siparis.yemek_adi} - {siparis.miktar} x {siparis.fiyat} TL\")\n",
        "\n",
        "\n",
        "restoran = Restoran()\n",
        "\n",
        "\n",
        "restoran.siparis_ekle(\"pattis\",3,30)\n",
        "restoran.siparis_ekle(\"burger\",2,100)\n",
        "\n",
        "restoran.siparis_iptal(\"pattis\")\n",
        "\n",
        "restoran.toplam_fiyat_hesapla()\n",
        "\n",
        "restoran.siparisleri_goster()\n"
      ],
      "metadata": {
        "colab": {
          "base_uri": "https://localhost:8080/"
        },
        "id": "K0YluNFIJjdA",
        "outputId": "4a55b4d5-cf28-4fb0-9ec8-70aec20f97bd"
      },
      "execution_count": null,
      "outputs": [
        {
          "output_type": "stream",
          "name": "stdout",
          "text": [
            "pattis siparişi eklendi.\n",
            "burger siparişi eklendi.\n",
            "pattis siparişi iptal edildi.\n",
            "burger - 2 x 100 TL\n"
          ]
        }
      ]
    },
    {
      "cell_type": "code",
      "source": [
        "class kutuphane:\n",
        "  def __init__(self,isim):\n",
        "    self.isim=isim\n",
        "    self.kitaplar=[]\n",
        "\n",
        "class kitap:\n",
        "  def __init__(self,isim):\n",
        "    self.isim=isim\n",
        "    self.kitaplar=[]\n",
        "\n",
        "  def kitap_ekle(self,kitap):\n",
        "    self.kitaplar.append(kitap)\n",
        "    print(f\"{self.kitaplar}kitap eklendi\")\n",
        "\n",
        "  def kitap_odunc(self,kitap):\n",
        "    print(f\"odunc alabileceğiniz kitaplar : {self.kitaplar}\")\n",
        "    if kitap in self.kitaplar:\n",
        "      self.kitaplar.remove(kitap)\n",
        "      print(\"kitap odunc aldınız\")\n",
        "\n",
        "  def kitap_iade(self,kitap):\n",
        "    self.kitaplar.append(kitap)\n",
        "    print(\"kitap iade edildi\")\n",
        "\n",
        "  def kitap_listesi(self):\n",
        "    for kitap in self.kitaplar:\n",
        "      print(f\"musait olan kitaplar : {kitap}\")\n",
        "\n",
        "kutuphanem=kitap(\"berat\")\n",
        "\n",
        "\n",
        "kutuphanem.kitap_ekle(\"1938\")\n",
        "\n",
        "kutuphanem.kitap_ekle(\"hayvan çiftliği\")\n",
        "\n",
        "kutuphanem.kitap_odunc(\"1938\")\n",
        "\n",
        "kutuphanem.kitap_listesi()\n",
        "\n",
        "kutuphanem.kitap_iade(\"1938\")\n",
        "\n",
        "kutuphanem.kitap_listesi()"
      ],
      "metadata": {
        "colab": {
          "base_uri": "https://localhost:8080/"
        },
        "id": "6n622BTEPFoe",
        "outputId": "bb8241d6-88af-4512-f50e-53af0b73e0f0"
      },
      "execution_count": null,
      "outputs": [
        {
          "output_type": "stream",
          "name": "stdout",
          "text": [
            "['1938']kitap eklendi\n",
            "['1938', 'hayvan çiftliği']kitap eklendi\n",
            "odunc alabileceğiniz kitaplar : ['1938', 'hayvan çiftliği']\n",
            "kitap odunc aldınız\n",
            "musait olan kitaplar : hayvan çiftliği\n",
            "kitap iade edildi\n",
            "musait olan kitaplar : hayvan çiftliği\n",
            "musait olan kitaplar : 1938\n"
          ]
        }
      ]
    },
    {
      "cell_type": "code",
      "source": [
        "class siparis:\n",
        "  def __init__(self,yemek_adi,miktar,fiyat):\n",
        "    self.yemek_adi=yemek_adi\n",
        "    self.miktar=miktar\n",
        "    self.fiyat=fiyat\n",
        "\n",
        "  def toplam_fiyat(self):\n",
        "    return self.miktar*self.fiyat\n",
        "\n",
        "class musteri:\n",
        "  def __init__(self,isim):\n",
        "    self.isim=isim\n",
        "    self.siparisler=[]\n",
        "\n",
        "  def siparis_ekle(self,siparis):\n",
        "    self.siparisler.append(siparis)\n",
        "\n",
        "  def siparisİptal(self,yemek_adi):\n",
        "    self.siparisler = [siparis for siparis in self.siparisler if siparis.yemek_adi != yemek_adi]\n",
        "\n",
        "  def toplam_fiyat_hesapla(self):\n",
        "    return sum(siparis.toplam_fiyat)\n",
        "  def siparisgoster(self):\n",
        "    print(self.siparisler)\n",
        "    for siparis in self.siparisler:\n",
        "      print(f\"{siparis.yemek_adi} - {siparis.miktar} x {siparis.fiyat} TL\")\n",
        "\n",
        "musteri1= musteri(\"berat\")\n",
        "siparis= siparis(\"iskender\",3,450)\n",
        "musteri1.siparis_ekle(siparis)\n",
        "\n",
        "musteri1.siparisgoster()\n"
      ],
      "metadata": {
        "colab": {
          "base_uri": "https://localhost:8080/"
        },
        "id": "_JRkJg2SPed8",
        "outputId": "03c54208-ad1e-40d7-d62e-884841fec5c5"
      },
      "execution_count": null,
      "outputs": [
        {
          "output_type": "stream",
          "name": "stdout",
          "text": [
            "[<__main__.siparis object at 0x7862e7cb9420>]\n",
            "iskender - 3 x 450 TL\n"
          ]
        }
      ]
    },
    {
      "cell_type": "code",
      "source": [
        "class kitap:\n",
        "  def __init__(self,baslık,yazar,mevcut = True):\n",
        "    self.baslık=baslık\n",
        "    self.yazar=yazar\n",
        "    self.mevcut=mevcut\n",
        "\n",
        "  def oduncal(self):\n",
        "    if self.mevcut:\n",
        "      self.mevcut=False\n",
        "      print(f\"{self.baslık} kitap alınmıştır.\")\n",
        "    else:\n",
        "      print(f\"{self.baslık} zaten alınmış.\")\n",
        "  def iade(self):\n",
        "    self.mevcut==True\n",
        "    return print(f\"{self.baslık} kitap iade edildi.\")\n",
        "\n",
        "\n",
        "\n",
        "\n",
        "class kutuphane:\n",
        "  def __init__(self):\n",
        "    self.kitaplar=[]\n",
        "\n",
        "  def kitap_ekle(self,kitap):\n",
        "    self.kitaplar.append(kitap)\n",
        "    print(f\"{kitap.baslık} kitap eklendi.\")\n",
        "\n",
        "  def kitapgoster(self):\n",
        "    for kitap in self.kitaplar:\n",
        "      durum = \"mevcut\" if kitap.mevcut else \"oduncte\"\n",
        "      print(f\" {kitap.baslık} {kitap.yazar} {durum}\")\n",
        "kutuphane=kutuphane()\n",
        "kitap1= kitap(\"1984\",\"george\")\n",
        "kitap2=kitap(\"ateşten gömlek\",\"halide edip adıvar\")\n",
        "\n",
        "kutuphane.kitap_ekle(kitap1)\n",
        "kutuphane.kitap_ekle(kitap2)\n",
        "kutuphane.kitapgoster()\n",
        "kitap1.oduncal()\n",
        "kutuphane.kitapgoster()\n",
        "kitap1.iade()\n",
        "kutuphane.kitapgoster()"
      ],
      "metadata": {
        "colab": {
          "base_uri": "https://localhost:8080/"
        },
        "id": "6zDY3b0MW7zj",
        "outputId": "6351a468-6fcd-4937-b866-219538636073"
      },
      "execution_count": null,
      "outputs": [
        {
          "output_type": "stream",
          "name": "stdout",
          "text": [
            "1984 kitap eklendi.\n",
            "ateşten gömlek kitap eklendi.\n",
            " 1984 george mevcut\n",
            " ateşten gömlek halide edip adıvar mevcut\n",
            "1984 kitap alınmıştır.\n",
            " 1984 george oduncte\n",
            " ateşten gömlek halide edip adıvar mevcut\n",
            "1984 kitap iade edildi.\n",
            " 1984 george oduncte\n",
            " ateşten gömlek halide edip adıvar mevcut\n"
          ]
        }
      ]
    },
    {
      "cell_type": "code",
      "source": [
        "class calısan:\n",
        "  def __init__(self,dep,maas,isim):\n",
        "    self.dep=dep\n",
        "    self.maas=maas\n",
        "    self.isim=isim\n",
        "  def calısanbilgi(self):\n",
        "    print(f\"calısan ;dep bilgi:{self.dep}, maas:{self.maas}, isim : {self.isim}\")\n",
        "\n",
        "class mudur(calısan):\n",
        "  def __init__(self,dep,maas,isim,yonetimekibi):\n",
        "    super().__init__(dep,maas,isim)\n",
        "    self.yonetimekibi=yonetimekibi\n",
        "  def mudurbilgi(self):\n",
        "    print(f\" mudur ;dep bilgi:{self.dep}, maas:{self.maas}, isim:{self.isim}, yonetimekibi:{self.yonetimekibi}\")\n",
        "\n",
        "\n",
        "calısan1=calısan(\" bilgi\",1000,\"suriyeli abdullah\")\n",
        "mudur1m=mudur(\" bilgi\",2000,\"sefim\",25)\n",
        "\n",
        "\n",
        "calısan1.calısanbilgi()\n",
        "mudur1m.mudurbilgi()\n"
      ],
      "metadata": {
        "id": "_07Nu6lkkHv2",
        "colab": {
          "base_uri": "https://localhost:8080/"
        },
        "outputId": "407bd010-150e-4380-8323-25976d74f31f"
      },
      "execution_count": null,
      "outputs": [
        {
          "output_type": "stream",
          "name": "stdout",
          "text": [
            "calısan ;dep bilgi: bilgi, maas:1000, isim : suriyeli abdullah\n",
            " mudur ;dep bilgi: bilgi, maas:2000, isim:sefim, yonetimekibi:25\n"
          ]
        }
      ]
    },
    {
      "cell_type": "code",
      "source": [
        "class calısan:\n",
        "  def __init__(self,isim,dep,maas):\n",
        "    self.isim=isim\n",
        "    self.dep=dep\n",
        "    self.maas=maas\n",
        "  def calısanbilgi(self):\n",
        "    print(f\"calısan ; dep bilgi:{self.dep}, maas:{self.maas}, isim : {self.isim}\")\n",
        "\n",
        "class mudur(calısan):\n",
        "  def __init__(self,dep,maas,isim,bonus):\n",
        "    super().__init__(dep,maas,isim)\n",
        "    self.bonus=bonus\n",
        "  def mudurbilgi(self):\n",
        "    print(f\" mudur ;dep bilgi:{self.dep}, maas:{self.maas}, isim:{self.isim}, bonus:{self.bonus}\")\n",
        "  def hesapla(self):\n",
        "    return self.maas+ self.bonus\n",
        "\n"
      ],
      "metadata": {
        "id": "u3-v9l6lmKv2"
      },
      "execution_count": null,
      "outputs": []
    },
    {
      "cell_type": "code",
      "source": [
        "class bankahesabi:\n",
        "  def __init__(self,sahip,bakiye):\n",
        "    self.sahip=sahip\n",
        "    self.bakiye=bakiye\n",
        "\n",
        "  def paracek(self,miktar):\n",
        "    if self.bakiye > 0 and miktar < self.bakiye:\n",
        "      self.bakiye -= miktar\n",
        "      print(f\"{miktar} TL çekildi. Yeni bakiye: {self.bakiye} TL\")\n",
        "    else:\n",
        "      print(\"Bakiye yetersiz.\")\n",
        "\n",
        "  def  parayatır(self,miktar):\n",
        "    self.bakiye += miktar\n",
        "    print(f\"{miktar} TL yatırıldı. Yeni bakiye: {self.bakiye} TL\")\n",
        "\n",
        "  def bakiyegoster(self):\n",
        "    print(f\"toplam bakiye : {self.bakiye}\")\n",
        "\n",
        "hesap1= bankahesabi(\"isim\",0)\n",
        "hesap1.parayatır(100)\n",
        "hesap1.paracek(50)\n",
        "hesap1.bakiyegoster()\n"
      ],
      "metadata": {
        "colab": {
          "base_uri": "https://localhost:8080/"
        },
        "id": "OCbzw7_oeflx",
        "outputId": "4774197e-4f27-492b-be92-68ec32a2b9cb"
      },
      "execution_count": null,
      "outputs": [
        {
          "output_type": "stream",
          "name": "stdout",
          "text": [
            "100 TL yatırıldı. Yeni bakiye: 100 TL\n",
            "50 TL çekildi. Yeni bakiye: 50 TL\n",
            "toplam bakiye : 50\n"
          ]
        }
      ]
    },
    {
      "cell_type": "code",
      "source": [
        "class banka:\n",
        "  def __init__(self,bakiye):\n",
        "    self.bakiye=bakiye\n",
        "\n",
        "\n",
        "  def parakontrol(self):\n",
        "    print(f\"bakiyeniz : {self.bakiye}\")\n",
        "\n",
        "\n",
        "class hesap(banka):\n",
        "  def __init__(self,bakiye,isim):\n",
        "    super().__init__(bakiye)\n",
        "    self.isim=isim\n",
        "\n",
        "  def parakoy(self,bakiye):\n",
        "\n",
        "    self.bakiye += bakiye\n",
        "    print(f\"toplam bakiyeniz : {self.bakiye}\")\n",
        "\n",
        "  def paracek(self,miktar):\n",
        "    if miktar <= self.bakiye:\n",
        "      self.bakiye -= miktar\n",
        "      print(f\"{miktar} para çekildi kalan: {self.bakiye}\")\n",
        "    else:\n",
        "      print(\"bakiyeniz yetersiz\")\n",
        "\n",
        "  def bakiyekontrol(self):\n",
        "    print(f\"bakiyeniz : {self.bakiye}\")\n",
        "\n",
        "musteri1= banka(100)\n",
        "musteri1= hesap(100,\"berat\")\n",
        "musteri1.parakoy(100)\n",
        "musteri1.paracek(50)\n",
        "musteri1.bakiyekontrol()"
      ],
      "metadata": {
        "id": "4fRRZUzpgYJQ"
      },
      "execution_count": null,
      "outputs": []
    },
    {
      "cell_type": "code",
      "source": [
        "class site:\n",
        "  def __init__(self,isim):\n",
        "    self.isim=isim\n",
        "    self.sepet=[]\n",
        "    self.toplam = []\n",
        "\n",
        "  def urunekle(self,isim,urun,fiyat):\n",
        "    self.isim=isim\n",
        "    self.urun=urun\n",
        "    self.fiyat=fiyat\n",
        "\n",
        "    self.sepet.append(urun)\n",
        "    self.toplam.append(fiyat)\n",
        "\n",
        "    print(f\"{urun} urun eklendi\")\n",
        "\n",
        "  def sepetgoster(self):\n",
        "    print(f\"sepetinizdeki ürünler : {self.sepet} toplam tutar : {sum(self.toplam)}\")\n",
        "\n",
        "  def uruncıkar(self,urun,fiyat):\n",
        "    if urun in self.sepet:\n",
        "      self.sepet.remove(urun)\n",
        "      self.toplam.remove(fiyat)\n",
        "      print(f\"{urun} sepetten çıkarıldı\")\n",
        "    else:\n",
        "      print(\"urun sepette yokki\")\n",
        "\n",
        "\n",
        "kullanıcı1.urunekle(\"berat\",\"sampuan\",70)\n",
        "kullanıcı1.urunekle(\"berat\",\"elma\",10)\n",
        "kullanıcı1.sepetgoster()\n",
        "kullanıcı1.uruncıkar(\"sampuan\",70)\n",
        "kullanıcı1.sepetgoster()\n",
        "\n"
      ],
      "metadata": {
        "colab": {
          "base_uri": "https://localhost:8080/"
        },
        "id": "xp37TzXygxdw",
        "outputId": "057e57f8-1ed6-402e-c4c4-33d888defb6b"
      },
      "execution_count": null,
      "outputs": [
        {
          "output_type": "stream",
          "name": "stdout",
          "text": [
            "sampuan urun eklendi\n",
            "elma urun eklendi\n",
            "sepetinizdeki ürünler : ['elma', 'elma', 'sampuan', 'elma'] toplam tutar : 100\n",
            "sampuan sepetten çıkarıldı\n",
            "sepetinizdeki ürünler : ['elma', 'elma', 'elma'] toplam tutar : 30\n"
          ]
        }
      ]
    },
    {
      "cell_type": "code",
      "source": [
        "class urun:\n",
        "  def __init__(self,isim,fiyat):\n",
        "    self.isim=isim\n",
        "    self.fiyat=fiyat\n",
        "  def goster(self):\n",
        "    print(f\"urun : {self.isim}, fiyat : {self.fiyat}.f\")\n",
        "\n",
        "class Sepet:\n",
        "  def __init__(self):\n",
        "    self.sepet=[]\n",
        "    self.toplam=[]\n",
        "    self.urunler = []\n",
        "\n",
        "  def urunekle(self,urun,fiyat):\n",
        "    self.sepet.append(urun)\n",
        "    self.toplam.append(fiyat)\n",
        "    self.urunler.append(urun)\n",
        "\n",
        "  def uruncıkar(self,urun,fiyat):\n",
        "    if urun in self.sepet:\n",
        "      self.sepet.remove(urun)\n",
        "      self.toplam.remove(fiyat)\n",
        "      print(f\"{urun} sepetten çıkarıldı\")\n",
        "    else:\n",
        "      print(\"urun sepette yokki\")\n",
        "\n",
        "  def toplamfiyat(self):\n",
        "    return sum(urun.fiyat for urun in self.urunler)\n",
        "  def sepetgosteri(self):\n",
        "    for i in self.urunler:\n",
        "      i.goster()\n",
        "\n",
        "urun1 = urun (\"elma\",210)\n",
        "urun2 = urun (\"ekmek\",15)\n",
        "\n",
        "sepet = Sepet()\n",
        "sepet.urunekle(urun1,urun1.fiyat)\n",
        "sepet.urunekle(urun2,urun2.fiyat)\n",
        "print(f\"{sepet.toplamfiyat()} tl\")\n",
        "\n",
        "sepet.sepetgosteri()\n",
        "sepet.uruncıkar(\"ekmek\",15)\n",
        "sepet.sepetgosteri()"
      ],
      "metadata": {
        "colab": {
          "base_uri": "https://localhost:8080/"
        },
        "id": "Hgue2WM0mluB",
        "outputId": "6221e9c4-69d6-415f-a97c-5fa0dac5352b"
      },
      "execution_count": null,
      "outputs": [
        {
          "output_type": "stream",
          "name": "stdout",
          "text": [
            "225 tl\n",
            "urun : elma, fiyat : 210.f\n",
            "urun : ekmek, fiyat : 15.f\n",
            "urun sepette yokki\n",
            "urun : elma, fiyat : 210.f\n",
            "urun : ekmek, fiyat : 15.f\n"
          ]
        }
      ]
    },
    {
      "cell_type": "code",
      "source": [
        "class havadurumu:\n",
        "  def __init__(self,bolge,sicaklik,havadurumu):\n",
        "    self.bolge=bolge\n",
        "    self.sicaklik=sicaklik\n",
        "    self.havadurumu=havadurumu\n",
        "  def bilgigoster(self):\n",
        "    print(f\"bolge : {self.bolge}, sicaklik : {self.sicaklik}, hava durumu : {self.havadurumu}\")\n",
        "\n",
        "\n",
        "class"
      ],
      "metadata": {
        "id": "KzvjXpwjm7rp"
      },
      "execution_count": null,
      "outputs": []
    },
    {
      "cell_type": "code",
      "source": [
        "class sehirhavadurumu:\n",
        "  def __init__(self,sehir,sicaklik,durum):\n",
        "    self.sehir=sehir\n",
        "    self.sicaklik=sicaklik\n",
        "    self.durum=durum\n",
        "  def bilgigoster(self):\n",
        "    print(f\"sehir : {self.sehir} sicaklik : {self.sicaklik} durum : {self.durum}\")\n",
        "\n",
        "class havadurumu:\n",
        "  def __init__(self):\n",
        "    self.sehirler=[]\n",
        "  def sehir_ekle(self,sehir_hava):\n",
        "    self.sehirler.append(sehir_hava)\n",
        "\n",
        "  def sehirgoster(self):\n",
        "    for i in self.sehirler:\n",
        "      i.bilgigoster()\n",
        "\n",
        "sehir = sehirhavadurumu(\"erzurum\",-20,\"karlı\")\n",
        "sehir2 = sehirhavadurumu(\"istanbul\",11,\"yağmurlu\")\n",
        "\n",
        "tahmin = havadurumu()\n",
        "tahmin.sehir_ekle(sehir)\n",
        "tahmin.sehir_ekle(sehir2)\n",
        "tahmin.sehirgoster()"
      ],
      "metadata": {
        "colab": {
          "base_uri": "https://localhost:8080/"
        },
        "id": "4JvoHGmLtL0p",
        "outputId": "befec07d-d5e4-4aa7-938e-19795b0ba49f"
      },
      "execution_count": null,
      "outputs": [
        {
          "output_type": "stream",
          "name": "stdout",
          "text": [
            "sehir : erzurum sicaklik : -20 durum : karlı\n",
            "sehir : istanbul sicaklik : 11 durum : yağmurlu\n"
          ]
        }
      ]
    },
    {
      "cell_type": "code",
      "source": [
        "class Hayvan:\n",
        "    def __init__(self, tur, yas, agirlik):\n",
        "        self.tur = tur\n",
        "        self.yas = yas\n",
        "        self.agirlik = agirlik\n",
        "\n",
        "    def hayvan_bilgileri(self):\n",
        "        print(f\"Tür: {self.tur}, Yaş: {self.yas}, Ağırlık: {self.agirlik} kg\")\n",
        "\n",
        "\n",
        "class Hayvanlar:\n",
        "    def __init__(self):\n",
        "        self.hayvanlar = []\n",
        "\n",
        "    def hayvan_ekle(self, hayvan):\n",
        "        self.hayvanlar.append(hayvan)\n",
        "        print(f\"{hayvan.tur} hayvanı eklendi.\")\n",
        "\n",
        "    def hayvan_bilgilerini_goster(self):\n",
        "        for hayvan in self.hayvanlar:\n",
        "            hayvan.hayvan_bilgileri()\n",
        "\n",
        "hayvanlar = Hayvanlar()\n",
        "\n",
        "hayvanlar.hayvan_ekle(Hayvan(\"Kedi\", 3, 7))\n",
        "hayvanlar.hayvan_ekle(Hayvan(\"Köpek\", 5, 20))\n",
        "\n",
        "hayvanlar.hayvan_bilgilerini_goster()"
      ],
      "metadata": {
        "id": "DMmBeqF9wkVq"
      },
      "execution_count": null,
      "outputs": []
    },
    {
      "cell_type": "code",
      "source": [
        "class muzikuyg:\n",
        "  def __init__(self,isim,sanatcı):\n",
        "    self.isim=isim\n",
        "    self.sanatcı=sanatcı\n",
        "\n",
        "\n",
        "  def bilgigoster(self):\n",
        "    print(f\"isim : {self.isim}, sanatcı : {self.sanatcı}\")\n",
        "\n",
        "class pl:\n",
        "  def __init__(self,isim,sanatcı):\n",
        "    self.isim=isim\n",
        "    self.sanatcı=sanatcı\n",
        "    self.muzikler=[]\n",
        "\n",
        "  def muzikekle(self,muzik,sanatcı):\n",
        "    self.muzikler.append((muzik,sanatcı))\n",
        "  def muzikgoster(self):\n",
        "    for muzik,sanatci in self.muzikler:\n",
        "      muzik.bilgigoster()\n",
        "\n",
        "muzik1 = muzikuyg(\"affet\",\"müslüm gürses\")\n",
        "muzik2 = muzikuyg(\"seni yazdım\", \"müslüm gürses\")\n",
        "\n",
        "tahmin = pl(\"Çalma Listesi Adı\", \"Sanatçı Adı\")\n",
        "tahmin.muzikekle(muzik1,muzik1.sanatcı)\n",
        "tahmin.muzikekle(muzik2,muzik2.sanatcı)\n",
        "tahmin.muzikgoster()\n",
        "\n"
      ],
      "metadata": {
        "colab": {
          "base_uri": "https://localhost:8080/"
        },
        "id": "SgbysBauyt-B",
        "outputId": "fca0dabc-da8d-4011-d13c-b67877b45f37"
      },
      "execution_count": null,
      "outputs": [
        {
          "output_type": "stream",
          "name": "stdout",
          "text": [
            "isim : affet, sanatcı : müslüm gürses\n",
            "isim : seni yazdım, sanatcı : müslüm gürses\n"
          ]
        }
      ]
    },
    {
      "cell_type": "code",
      "source": [
        "class sarki:\n",
        "  def __init__(self,baslik,sanatci):\n",
        "    self.baslik = baslik\n",
        "    self.sanatci= sanatci\n",
        "  def sarkigoster(self):\n",
        "    print(f\"sarki : {self.baslik}, sanatci : {self.sanatci}\")\n",
        "\n",
        "\n",
        "class pl:\n",
        "  def __init__(self):\n",
        "    self.liste=[]\n",
        "\n",
        "  def sarkiekle(self,sarki):\n",
        "    self.liste.append(sarki)\n",
        "\n",
        "  def sarkicıkar(self,baslik):\n",
        "    for i in self.liste:\n",
        "      if i.baslik == baslik :\n",
        "        self.liste.remove(i)\n",
        "      else:\n",
        "        print(\"şarkı yok bre\")\n",
        "\n",
        "  def sarkigoster(self):\n",
        "    for i in self.liste:\n",
        "      i.sarkigoster()\n",
        "\n",
        "sarki1 = sarki(\"affet\",\"müslüm gürses\")\n",
        "sarki2 = sarki(\"nilüfer\", \"müslüm gürses\")\n",
        "\n",
        "pl= pl()\n",
        "\n",
        "\n",
        "pl.sarkiekle(sarki1)\n",
        "pl.sarkiekle(sarki2)\n",
        "pl.sarkigoster()\n",
        "\n",
        "\n",
        "pl.sarkicıkar(sarki1.baslik)\n",
        "\n",
        "pl.sarkigoster()\n"
      ],
      "metadata": {
        "colab": {
          "base_uri": "https://localhost:8080/"
        },
        "id": "XM8ImsIpz_IK",
        "outputId": "63c1accd-de6f-4e6e-deb7-9d99bffcd2ca"
      },
      "execution_count": null,
      "outputs": [
        {
          "output_type": "stream",
          "name": "stdout",
          "text": [
            "sarki : affet, sanatci : müslüm gürses\n",
            "sarki : nilüfer, sanatci : müslüm gürses\n",
            "sarki : nilüfer, sanatci : müslüm gürses\n"
          ]
        }
      ]
    },
    {
      "cell_type": "code",
      "source": [
        "class cekim:\n",
        "  def __init__(self,oyuncu,isim):\n",
        "    self.oyuncu=oyuncu\n",
        "    self.isim=isim\n",
        "  def bilgigoster(self):\n",
        "    print(f\"oyuncu : {self.oyuncu}, isim : {self.isim}\")\n",
        "\n",
        "\n",
        "class filmler:\n",
        "  def __init__(self):\n",
        "    self.filmler=[]\n",
        "    self.izlenenler=[]\n",
        "\n",
        "  def filmlerekle(self,cekim):\n",
        "    self.filmler.append(cekim)\n",
        "    print(\"izlencek film eklendi\")\n",
        "\n",
        "  def izlendi(self,cekim):\n",
        "    if cekim in self.filmler:\n",
        "      self.filmler.remove(cekim)\n",
        "      self.izlenenler.append(cekim)\n",
        "      print(f\"{cekim.isim} filmi izlendi ve izlenenler listesine eklendi.\")\n",
        "    else:\n",
        "      print(f\"{cekim.isim} filmi filmler listesinde bulunamadı.\")\n",
        "\n",
        "  def izlenmeyenfilmlersorgula(self):\n",
        "    print(\"izlenmeyenler\")\n",
        "    for i in self.filmler:\n",
        "      i.bilgigoster()\n",
        "\n",
        "  def izlenenfilmlersorgula(self):\n",
        "    print(\"izlenenler\")\n",
        "    for i in self.izlenenler:\n",
        "      i.bilgigoster()\n",
        "\n",
        "\n",
        "\n",
        "\n",
        "  def filmcıkar(self,cekim):\n",
        "     if cekim in self.filmler:\n",
        "      self.filmler.remove(cekim)\n",
        "      print(f\"{cekim.isim} film çıkarıldı.\")\n",
        "     else:\n",
        "       print(f\"{cekim.isim} film bulunamadı.\")\n",
        "\n",
        "\n",
        "film1=cekim (\"ibrahim büyükak\",\"özür dilerim\")\n",
        "film2=cekim(\"oguzhan koc\",\"yol arkadaşım\")\n",
        "film3=cekim(\"muslum\",\"muslum gurses\")\n",
        "\n",
        "film=filmler()\n",
        "\n",
        "film.filmlerekle(film1)\n",
        "film.filmlerekle(film2)\n",
        "film.filmlerekle(film3)\n",
        "film.izlenmeyenfilmlersorgula()\n",
        "film.filmcıkar(film2)\n",
        "film.izlenmeyenfilmlersorgula()\n",
        "film.izlendi(film1)\n",
        "film.izlenmeyenfilmlersorgula()\n",
        "film.izlenenfilmlersorgula()\n",
        "\n"
      ],
      "metadata": {
        "colab": {
          "base_uri": "https://localhost:8080/"
        },
        "id": "zTSkCuKr2QSK",
        "outputId": "66464226-eb23-44b9-d949-ec4fcb5d50df"
      },
      "execution_count": null,
      "outputs": [
        {
          "output_type": "stream",
          "name": "stdout",
          "text": [
            "izlencek film eklendi\n",
            "izlencek film eklendi\n",
            "izlencek film eklendi\n",
            "izlenmeyenler\n",
            "oyuncu : ibrahim büyükak, isim : özür dilerim\n",
            "oyuncu : oguzhan koc, isim : yol arkadaşım\n",
            "oyuncu : muslum, isim : muslum gurses\n",
            "yol arkadaşım film çıkarıldı.\n",
            "izlenmeyenler\n",
            "oyuncu : ibrahim büyükak, isim : özür dilerim\n",
            "oyuncu : muslum, isim : muslum gurses\n",
            "özür dilerim filmi izlendi ve izlenenler listesine eklendi.\n",
            "izlenmeyenler\n",
            "oyuncu : muslum, isim : muslum gurses\n",
            "izlenenler\n",
            "oyuncu : ibrahim büyükak, isim : özür dilerim\n"
          ]
        }
      ]
    },
    {
      "cell_type": "code",
      "source": [],
      "metadata": {
        "id": "jRsOqnB_4hua"
      },
      "execution_count": null,
      "outputs": []
    }
  ],
  "metadata": {
    "colab": {
      "provenance": []
    },
    "kernelspec": {
      "display_name": "Python 3",
      "name": "python3"
    }
  },
  "nbformat": 4,
  "nbformat_minor": 0
}